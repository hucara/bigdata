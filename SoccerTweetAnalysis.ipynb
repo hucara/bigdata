{
 "cells": [
  {
   "cell_type": "code",
   "execution_count": 4,
   "metadata": {
    "collapsed": true
   },
   "outputs": [],
   "source": [
    "# Import and create a new SQLContext \n",
    "from pyspark.sql import SQLContext\n",
    "sqlContext = SQLContext(sc)"
   ]
  },
  {
   "cell_type": "code",
   "execution_count": 6,
   "metadata": {
    "collapsed": false
   },
   "outputs": [],
   "source": [
    "# Read the country CSV file into an RDD.\n",
    "country_lines = sc.textFile('file:///home/cloudera/Downloads/big-data-3/final-project/country-list.csv')"
   ]
  },
  {
   "cell_type": "code",
   "execution_count": 8,
   "metadata": {
    "collapsed": false
   },
   "outputs": [],
   "source": [
    "# Convert each line into a pair of words\n",
    "country_words = country_lines.map(lambda line: line.split(\",\"))"
   ]
  },
  {
   "cell_type": "code",
   "execution_count": 10,
   "metadata": {
    "collapsed": false
   },
   "outputs": [],
   "source": [
    "# Convert each pair of words into a tuple\n",
    "country_tuples = country_words.map(lambda word:(word))"
   ]
  },
  {
   "cell_type": "code",
   "execution_count": 11,
   "metadata": {
    "collapsed": false
   },
   "outputs": [
    {
     "name": "stdout",
     "output_type": "stream",
     "text": [
      "root\n",
      " |-- country: string (nullable = true)\n",
      " |-- code: string (nullable = true)\n",
      "\n"
     ]
    },
    {
     "data": {
      "text/plain": [
       "[Row(country='Afghanistan', code=' AFG'),\n",
       " Row(country='Albania', code=' ALB'),\n",
       " Row(country='Algeria', code=' ALG')]"
      ]
     },
     "execution_count": 11,
     "metadata": {},
     "output_type": "execute_result"
    }
   ],
   "source": [
    "# Create the DataFrame, look at schema and contents\n",
    "countryDF = sqlContext.createDataFrame(country_tuples, [\"country\", \"code\"])\n",
    "countryDF.printSchema()\n",
    "countryDF.take(3)"
   ]
  },
  {
   "cell_type": "code",
   "execution_count": 15,
   "metadata": {
    "collapsed": false
   },
   "outputs": [
    {
     "data": {
      "text/plain": [
       "['{\"_id\":{\"$oid\":\"578ffa8e7eb9513f4f55a935\"},\"user_name\":\"koteras\",\"retweet_count\":0,\"tweet_followers_count\":461,\"source\":\"\\\\u003ca href=\\\\\"http://twitter.com/download/iphone\\\\\" rel=\\\\\"nofollow\\\\\"\\\\u003eTwitter for iPhone\\\\u003c/a\\\\u003e\",\"coordinates\":null,\"tweet_mentioned_count\":1,\"tweet_ID\":\"755891629932675072\",\"tweet_text\":\"RT @ochocinco: I beat them all for 10 straight hours #FIFA16KING  https://t.co/BFnV6jfkBL\",\"user\":{\"CreatedAt\":{\"$date\":\"2011-12-27T09:04:01.000Z\"},\"FavouritesCount\":5223,\"FollowersCount\":461,\"FriendsCount\":619,\"UserId\":447818090,\"Location\":\"501\"}}',\n",
       " '{\"_id\":{\"$oid\":\"578ffa8f7eb9513f4f55a937\"},\"user_name\":\"AllieLovesR5_1D\",\"retweet_count\":0,\"tweet_followers_count\":4601,\"source\":\"\\\\u003ca href=\\\\\"http://twitter.com/download/iphone\\\\\" rel=\\\\\"nofollow\\\\\"\\\\u003eTwitter for iPhone\\\\u003c/a\\\\u003e\",\"coordinates\":null,\"tweet_mentioned_count\":3,\"tweet_ID\":\"755891632759681024\",\"tweet_text\":\"RT @NiallOfficial: @Louis_Tomlinson @socceraid when I retired from playing because of my knee . I went and did my uefa A badges in Dublin\",\"user\":{\"CreatedAt\":{\"$date\":\"2012-10-19T00:47:23.000Z\"},\"FavouritesCount\":15758,\"FollowersCount\":4601,\"FriendsCount\":5059,\"UserId\":890030330,\"Location\":null}}',\n",
       " '{\"_id\":{\"$oid\":\"578ffa917eb9513f4f55a939\"},\"user_name\":\"Tonkatol\",\"retweet_count\":0,\"tweet_followers_count\":616,\"source\":\"\\\\u003ca href=\\\\\"http://twitter.com\\\\\" rel=\\\\\"nofollow\\\\\"\\\\u003eTwitter Web Client\\\\u003c/a\\\\u003e\",\"coordinates\":null,\"tweet_mentioned_count\":1,\"tweet_ID\":\"755891638921232384\",\"tweet_text\":\"RT @GameSeek: Follow \\\\u0026 Retweet for your chance to win a copy of FIFA 17 Deluxe Edition (platform of your choice) in our #giveaway! https://…\",\"user\":{\"CreatedAt\":{\"$date\":\"2012-07-28T21:00:59.000Z\"},\"FavouritesCount\":350,\"FollowersCount\":616,\"FriendsCount\":2675,\"UserId\":722815650,\"Location\":null}}']"
      ]
     },
     "execution_count": 15,
     "metadata": {},
     "output_type": "execute_result"
    }
   ],
   "source": [
    "# Read tweets CSV file into RDD of lines\n",
    "tweet_lines = sc.textFile('file:///home/cloudera/Downloads/big-data-3/final-project/imported_soccer_tweets.csv')\n",
    "tweet_lines.take(3)"
   ]
  },
  {
   "cell_type": "code",
   "execution_count": 16,
   "metadata": {
    "collapsed": false
   },
   "outputs": [],
   "source": [
    "# Clean the data: some tweets are empty. Remove the empty tweets using filter() \n",
    "tweet_lines = tweet_lines.filter(lambda x:len(x) > 0)"
   ]
  },
  {
   "cell_type": "code",
   "execution_count": 17,
   "metadata": {
    "collapsed": false
   },
   "outputs": [
    {
     "data": {
      "text/plain": [
       "[('', 2870)]"
      ]
     },
     "execution_count": 17,
     "metadata": {},
     "output_type": "execute_result"
    }
   ],
   "source": [
    "# Perform WordCount on the cleaned tweet texts. (note: this is several lines.)\n",
    "tweet_words = tweet_lines.flatMap(lambda line: line.split(\" \"))\n",
    "tweet_tuples = tweet_words.map(lambda w : (w, 1))\n",
    "word_count = tweet_tuples.reduceByKey(lambda a, b : (a+b))\n",
    "word_count.take(1)"
   ]
  },
  {
   "cell_type": "code",
   "execution_count": 19,
   "metadata": {
    "collapsed": false
   },
   "outputs": [
    {
     "name": "stdout",
     "output_type": "stream",
     "text": [
      "root\n",
      " |-- word: string (nullable = true)\n",
      " |-- count: long (nullable = true)\n",
      "\n"
     ]
    },
    {
     "data": {
      "text/plain": [
       "[Row(word='', count=2870)]"
      ]
     },
     "execution_count": 19,
     "metadata": {},
     "output_type": "execute_result"
    }
   ],
   "source": [
    "# Create the DataFrame of tweet word counts\n",
    "tweetDF = sqlContext.createDataFrame(word_count, [\"word\", \"count\"])\n",
    "tweetDF.printSchema()\n",
    "tweetDF.take(1)"
   ]
  },
  {
   "cell_type": "code",
   "execution_count": 20,
   "metadata": {
    "collapsed": false
   },
   "outputs": [
    {
     "data": {
      "text/plain": [
       "[Row(country='Thailand', code=' THA', word='Thailand', count=1),\n",
       " Row(country='Iceland', code=' ISL', word='Iceland', count=2),\n",
       " Row(country='Mexico', code=' MEX', word='Mexico', count=2),\n",
       " Row(country='Wales', code=' WAL', word='Wales', count=20),\n",
       " Row(country='Denmark', code=' DEN', word='Denmark', count=1)]"
      ]
     },
     "execution_count": 20,
     "metadata": {},
     "output_type": "execute_result"
    }
   ],
   "source": [
    "# Join the country and tweet data frames (on the appropriate column)\n",
    "joinDF = countryDF.join(tweetDF, countryDF.country == tweetDF.word)\n",
    "joinDF.take(5)"
   ]
  },
  {
   "cell_type": "code",
   "execution_count": 23,
   "metadata": {
    "collapsed": false
   },
   "outputs": [
    {
     "data": {
      "text/plain": [
       "49"
      ]
     },
     "execution_count": 23,
     "metadata": {},
     "output_type": "execute_result"
    }
   ],
   "source": [
    "# Question 1: number of distinct countries mentioned\n",
    "joinDF.select('code').distinct().count()"
   ]
  },
  {
   "cell_type": "code",
   "execution_count": 24,
   "metadata": {
    "collapsed": false
   },
   "outputs": [
    {
     "data": {
      "text/plain": [
       "Row(sum(count)=384)"
      ]
     },
     "execution_count": 24,
     "metadata": {},
     "output_type": "execute_result"
    }
   ],
   "source": [
    "# Question 2: number of countries mentioned in tweets.\n",
    "from pyspark.sql.functions import sum\n",
    "joinDF.agg(sum(\"count\")).first()"
   ]
  },
  {
   "cell_type": "code",
   "execution_count": 25,
   "metadata": {
    "collapsed": false
   },
   "outputs": [
    {
     "name": "stdout",
     "output_type": "stream",
     "text": [
      "+-------+----+-------+-----+\n",
      "|country|code|   word|count|\n",
      "+-------+----+-------+-----+\n",
      "|Nigeria| NGA|Nigeria|   54|\n",
      "| France| FRA| France|   39|\n",
      "|England| ENG|England|   31|\n",
      "+-------+----+-------+-----+\n",
      "only showing top 3 rows\n",
      "\n"
     ]
    }
   ],
   "source": [
    "# Table 1: top three countries and their counts.\n",
    "from pyspark.sql.functions import desc\n",
    "sortDF = joinDF.sort(desc(\"count\"))\n",
    "sortDF.show(3)"
   ]
  },
  {
   "cell_type": "code",
   "execution_count": 30,
   "metadata": {
    "collapsed": false
   },
   "outputs": [
    {
     "name": "stdout",
     "output_type": "stream",
     "text": [
      "+-------+----+-------+-----+\n",
      "|country|code|   word|count|\n",
      "+-------+----+-------+-----+\n",
      "|Iceland| ISL|Iceland|    2|\n",
      "|  Wales| WAL|  Wales|   20|\n",
      "|England| ENG|England|   31|\n",
      "+-------+----+-------+-----+\n",
      "\n"
     ]
    }
   ],
   "source": [
    "# Table 2: counts for Wales, Iceland, and Japan.\n",
    "from pyspark.sql.functions import col\n",
    "table2 = joinDF.where((col(\"country\") == \"Wales\") | (col(\"country\") == \"Iceland\") | (col(\"country\") == \"England\"))\n",
    "table2.show()"
   ]
  },
  {
   "cell_type": "code",
   "execution_count": 31,
   "metadata": {
    "collapsed": false
   },
   "outputs": [
    {
     "name": "stdout",
     "output_type": "stream",
     "text": [
      "+-----------+----+-----------+-----+\n",
      "|    country|code|       word|count|\n",
      "+-----------+----+-----------+-----+\n",
      "|      Wales| WAL|      Wales|   20|\n",
      "|Netherlands| NED|Netherlands|   13|\n",
      "|      Kenya| KEN|      Kenya|    3|\n",
      "+-----------+----+-----------+-----+\n",
      "\n"
     ]
    }
   ],
   "source": [
    "table3 = joinDF.where((col(\"country\") == \"Wales\") | (col(\"country\") == \"Kenya\") | (col(\"country\") == \"Netherlands\"))\n",
    "table3.show()"
   ]
  },
  {
   "cell_type": "code",
   "execution_count": 32,
   "metadata": {
    "collapsed": false
   },
   "outputs": [
    {
     "data": {
      "text/plain": [
       "Row(avg(count)=7.836734693877551)"
      ]
     },
     "execution_count": 32,
     "metadata": {},
     "output_type": "execute_result"
    }
   ],
   "source": [
    "from pyspark.sql.functions import avg \n",
    "\n",
    "joinDF.agg(avg(\"count\")).first()"
   ]
  },
  {
   "cell_type": "code",
   "execution_count": null,
   "metadata": {
    "collapsed": true
   },
   "outputs": [],
   "source": []
  }
 ],
 "metadata": {
  "kernelspec": {
   "display_name": "Python 3",
   "language": "python",
   "name": "python3"
  },
  "language_info": {
   "codemirror_mode": {
    "name": "ipython",
    "version": 3
   },
   "file_extension": ".py",
   "mimetype": "text/x-python",
   "name": "python",
   "nbconvert_exporter": "python",
   "pygments_lexer": "ipython3",
   "version": "3.5.1"
  }
 },
 "nbformat": 4,
 "nbformat_minor": 0
}
