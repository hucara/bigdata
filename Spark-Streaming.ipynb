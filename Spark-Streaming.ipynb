{
 "cells": [
  {
   "cell_type": "code",
   "execution_count": 2,
   "metadata": {
    "collapsed": true
   },
   "outputs": [],
   "source": [
    "# Example weather station data\n",
    "#\n",
    "# 1419408015\t0R1,Dn=059D,Dm=066D,Dx=080D,Sn=8.5M,Sm=9.5M,Sx=10.3M\n",
    "# 1419408016\t0R1,Dn=059D,Dm=065D,Dx=078D,Sn=8.5M,Sm=9.5M,Sx=10.3M\n",
    "# 1419408016\t0R2,Ta=13.9C,Ua=28.5P,Pa=889.9H\n",
    "# 1419408017\t0R1,Dn=059D,Dm=064D,Dx=075D,Sn=8.7M,Sm=9.6M,Sx=10.3M\n",
    "# 1419408018\t0R1,Dn=059D,Dm=064D,Dx=075D,Sn=8.9M,Sm=9.6M,Sx=10.3M\n",
    "# 1419408019\t0R1,Dn=059D,Dm=065D,Dx=075D,Sn=8.8M,Sm=9.5M,Sx=10.3M"
   ]
  },
  {
   "cell_type": "code",
   "execution_count": 1,
   "metadata": {
    "collapsed": true
   },
   "outputs": [],
   "source": [
    "# Key for measurements:\n",
    "#\n",
    "# Sn      Wind speed minimum m/s, km/h, mph, knots #,M, K, S, N\n",
    "# Sm      Wind speed average m/s, km/h, mph, knots #,M, K, S, N\n",
    "# Sx      Wind speed maximum m/s, km/h, mph, knots #,M, K, S, N\n",
    "# Dn      Wind direction minimum deg #, D\n",
    "# Dm      Wind direction average deg #, D\n",
    "# Dx      Wind direction maximum deg #, D\n",
    "# Pa      Air pressure hPa, Pa, bar, mmHg, inHg #, H, P, B, M, I\n",
    "# Ta      Air temperature °C, °F #, C, F\n",
    "# Tp      Internal temperature °C, °F #, C, F\n",
    "# Ua      Relative humidity %RH #, P\n",
    "# Rc      Rain accumulation mm, in #, M, I\n",
    "# Rd      Rain duration s #, S\n",
    "# Ri      Rain intensity mm/h, in/h #, M, I\n",
    "# Rp      Rain peak intensity mm/h, in/h #, M, I\n",
    "# Hc      Hail accumulation hits/cm2, hits/in2, hits #, M, I, H\n",
    "# Hd      Hail duration s #, S\n",
    "# Hi      Hail intensity hits/cm2h, hits/in2h, hits/ h #, M, I, H\n",
    "# Hp      Hail peak intensity hits/cm2h, hits/in2h, hits/ h #, M, I, H\n",
    "# Th      Heating temperature °C, °F #, C, F\n",
    "# Vh      Heating voltage V #, N, V, W, F2\n",
    "# Vs      Supply voltage V V\n",
    "# Vr      3.5 V ref. voltage V V"
   ]
  },
  {
   "cell_type": "code",
   "execution_count": 2,
   "metadata": {
    "collapsed": true
   },
   "outputs": [],
   "source": [
    "# Parse a line of weather station data, returning the average wind direction measurement \n",
    "#\n",
    "import re\n",
    "def parse(line):\n",
    "    match = re.search(\"Dm=(\\d+)\", line)\n",
    "    if match:\n",
    "        val = match.group(1)\n",
    "        return [int(val)]\n",
    "    return []"
   ]
  },
  {
   "cell_type": "markdown",
   "metadata": {
    "collapsed": true
   },
   "source": [
    "Import and create streaming context."
   ]
  },
  {
   "cell_type": "code",
   "execution_count": 5,
   "metadata": {
    "collapsed": true
   },
   "outputs": [],
   "source": [
    "from pyspark.streaming import StreamingContext\n",
    "ssc = StreamingContext(sc,1)"
   ]
  },
  {
   "cell_type": "markdown",
   "metadata": {},
   "source": [
    "Similar to SparkContext. The 1 specifies a batch of 1 second interval."
   ]
  },
  {
   "cell_type": "markdown",
   "metadata": {},
   "source": [
    "Create DStream of weather data. Lets open to the streaming weather data:"
   ]
  },
  {
   "cell_type": "code",
   "execution_count": 7,
   "metadata": {
    "collapsed": false
   },
   "outputs": [],
   "source": [
    "lines = ssc.socketTextStream(\"rtd.hpwren.ucsd.edu\", 12028)"
   ]
  },
  {
   "cell_type": "markdown",
   "metadata": {},
   "source": [
    "This creates the variable lines that streams the lines of output from the weather station."
   ]
  },
  {
   "cell_type": "markdown",
   "metadata": {},
   "source": [
    "Read measurement. Let's read the average wind speed from each line and store it in a new DStream vals."
   ]
  },
  {
   "cell_type": "code",
   "execution_count": 8,
   "metadata": {
    "collapsed": true
   },
   "outputs": [],
   "source": [
    "vals = lines.flatMap(parse)"
   ]
  },
  {
   "cell_type": "markdown",
   "metadata": {},
   "source": [
    "This line uses flatMap() to iterate over the lines DStream and calls the parse() function we defined above to get the average wind speed."
   ]
  },
  {
   "cell_type": "markdown",
   "metadata": {},
   "source": [
    "Create sliding window of data. Create a new DStream called window that combines the ten seconds worth of data and moves by five seconds."
   ]
  },
  {
   "cell_type": "code",
   "execution_count": 9,
   "metadata": {
    "collapsed": true
   },
   "outputs": [],
   "source": [
    "window = vals.window(10, 5)"
   ]
  },
  {
   "cell_type": "markdown",
   "metadata": {},
   "source": [
    "Define and call analysis function. We would like to find the min and max values in our window. Let's define a function that prints these values for an RDD:"
   ]
  },
  {
   "cell_type": "code",
   "execution_count": 15,
   "metadata": {
    "collapsed": false
   },
   "outputs": [
    {
     "name": "stdout",
     "output_type": "stream",
     "text": [
      "max = {}, min = {}\n"
     ]
    }
   ],
   "source": [
    "def stats(rdd):\n",
    "    print(rdd.collect())\n",
    "    if rdd.count() > 0:\n",
    "        print(\"max = {}, min = {}\".format(rdd.max(), rdd.min()))"
   ]
  },
  {
   "cell_type": "markdown",
   "metadata": {},
   "source": [
    "This function first prints the entire contents of the RDD. This would be practical usually. Then we check the size of the rdd and if it contains something, we compute and print the max and min values."
   ]
  },
  {
   "cell_type": "code",
   "execution_count": 11,
   "metadata": {
    "collapsed": true
   },
   "outputs": [],
   "source": [
    "window.foreachRDD(lambda rdd : stats(rdd))"
   ]
  },
  {
   "cell_type": "markdown",
   "metadata": {},
   "source": [
    "This line calls the stats() function defined aobve for each RDD in the DStream window."
   ]
  },
  {
   "cell_type": "markdown",
   "metadata": {},
   "source": [
    "Start the stream processing:"
   ]
  },
  {
   "cell_type": "code",
   "execution_count": 16,
   "metadata": {
    "collapsed": false
   },
   "outputs": [
    {
     "name": "stdout",
     "output_type": "stream",
     "text": [
      "max = 76, min = 49\n",
      "[59, 64, 71, 76, 75, 72, 64, 63, 59, 59]\n",
      "max = 76, min = 59\n",
      "[72, 64, 63, 59, 59, 59, 60, 60, 55, 58]\n",
      "max = 72, min = 55\n",
      "[59, 60, 60, 55, 58, 55, 63, 64, 67, 62]\n",
      "max = 67, min = 55\n",
      "[55, 63, 64, 67, 62, 62, 60, 60, 64, 62]\n",
      "max = 67, min = 55\n",
      "[62, 60, 60, 64, 62, 66, 66, 66, 63, 68]\n",
      "max = 68, min = 60\n",
      "[66, 66, 66, 63, 68, 67, 64, 62, 58, 63]\n",
      "max = 68, min = 58\n",
      "[67, 64, 62, 58, 63, 55, 55, 55, 50, 48, 48]\n",
      "max = 67, min = 48\n",
      "[55, 55, 55, 50, 48, 48, 50, 56, 59, 64, 60]\n"
     ]
    }
   ],
   "source": [
    "ssc.start()"
   ]
  },
  {
   "cell_type": "code",
   "execution_count": 17,
   "metadata": {
    "collapsed": false
   },
   "outputs": [
    {
     "name": "stdout",
     "output_type": "stream",
     "text": [
      "max = 64, min = 48\n"
     ]
    }
   ],
   "source": [
    "ssc.stop()"
   ]
  },
  {
   "cell_type": "code",
   "execution_count": null,
   "metadata": {
    "collapsed": true
   },
   "outputs": [],
   "source": []
  }
 ],
 "metadata": {
  "kernelspec": {
   "display_name": "Python 3",
   "language": "python",
   "name": "python3"
  },
  "language_info": {
   "codemirror_mode": {
    "name": "ipython",
    "version": 3
   },
   "file_extension": ".py",
   "mimetype": "text/x-python",
   "name": "python",
   "nbconvert_exporter": "python",
   "pygments_lexer": "ipython3",
   "version": "3.5.1"
  }
 },
 "nbformat": 4,
 "nbformat_minor": 0
}
